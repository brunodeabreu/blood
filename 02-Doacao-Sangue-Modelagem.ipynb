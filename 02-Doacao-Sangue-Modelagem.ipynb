{
 "cells": [
  {
   "cell_type": "code",
   "execution_count": null,
   "metadata": {},
   "outputs": [],
   "source": []
  },
  {
   "cell_type": "markdown",
   "metadata": {},
   "source": [
    "## Modelagem"
   ]
  },
  {
   "cell_type": "code",
   "execution_count": 1,
   "metadata": {},
   "outputs": [],
   "source": [
    "import pickle\n",
    "\n",
    "pickle_in = open(\"data/dados.pkl\",\"rb\")\n",
    "data = pickle.load(pickle_in)"
   ]
  },
  {
   "cell_type": "code",
   "execution_count": 2,
   "metadata": {},
   "outputs": [
    {
     "data": {
      "text/plain": [
       "Index(['rec', 'frec', 'total', 'time', 'target', 'time_frec', 'time_rec',\n",
       "       'total_time'],\n",
       "      dtype='object')"
      ]
     },
     "execution_count": 2,
     "metadata": {},
     "output_type": "execute_result"
    }
   ],
   "source": [
    "data.columns"
   ]
  },
  {
   "cell_type": "code",
   "execution_count": 3,
   "metadata": {},
   "outputs": [],
   "source": [
    "x = data[['rec', 'frec', 'total', 'time', 'time_frec', 'time_rec','total_time']]\n",
    "\n",
    "y = data.target"
   ]
  },
  {
   "cell_type": "code",
   "execution_count": 29,
   "metadata": {},
   "outputs": [],
   "source": [
    "# Split\n",
    "\n",
    "from sklearn.model_selection import train_test_split\n",
    "\n",
    "X_train, X_valid, y_train, y_valid = train_test_split(x, y, test_size=0.33, random_state=42)"
   ]
  },
  {
   "cell_type": "markdown",
   "metadata": {
    "heading_collapsed": true
   },
   "source": [
    "### GaussianNB  - acc 70%"
   ]
  },
  {
   "cell_type": "code",
   "execution_count": 30,
   "metadata": {
    "hidden": true
   },
   "outputs": [
    {
     "name": "stdout",
     "output_type": "stream",
     "text": [
      "GaussianNB(priors=None, var_smoothing=1e-09)\n",
      "              precision    recall  f1-score   support\n",
      "\n",
      "           0       0.77      0.85      0.81       181\n",
      "           1       0.43      0.30      0.35        66\n",
      "\n",
      "    accuracy                           0.70       247\n",
      "   macro avg       0.60      0.58      0.58       247\n",
      "weighted avg       0.68      0.70      0.69       247\n",
      "\n",
      "[[154  27]\n",
      " [ 46  20]]\n"
     ]
    }
   ],
   "source": [
    "from sklearn import datasets\n",
    "from sklearn import metrics\n",
    "from sklearn.naive_bayes import GaussianNB\n",
    "\n",
    "# Classificador \n",
    "clf = GaussianNB()\n",
    "\n",
    "# Modelo\n",
    "modelo = clf.fit(X_train, y_train)\n",
    "print(modelo)\n",
    "\n",
    "# Previsões\n",
    "previsto = modelo.predict(X_valid)\n",
    "\n",
    "# Sumário\n",
    "print(metrics.classification_report(y_valid, previsto))\n",
    "print(metrics.confusion_matrix(y_valid, previsto))\n"
   ]
  },
  {
   "cell_type": "markdown",
   "metadata": {
    "heading_collapsed": true
   },
   "source": [
    "### Logistic Regression  - acc 74%"
   ]
  },
  {
   "cell_type": "code",
   "execution_count": 31,
   "metadata": {
    "hidden": true
   },
   "outputs": [
    {
     "name": "stdout",
     "output_type": "stream",
     "text": [
      "LogisticRegressionCV(Cs=10, class_weight=None, cv=5, dual=False,\n",
      "                     fit_intercept=True, intercept_scaling=1.0, l1_ratios=None,\n",
      "                     max_iter=100, multi_class='warn', n_jobs=None,\n",
      "                     penalty='l2', random_state=0, refit=True, scoring=None,\n",
      "                     solver='lbfgs', tol=0.0001, verbose=0)\n",
      "              precision    recall  f1-score   support\n",
      "\n",
      "           0       0.75      0.98      0.85       181\n",
      "           1       0.60      0.09      0.16        66\n",
      "\n",
      "    accuracy                           0.74       247\n",
      "   macro avg       0.67      0.53      0.50       247\n",
      "weighted avg       0.71      0.74      0.66       247\n",
      "\n",
      "[[177   4]\n",
      " [ 60   6]]\n"
     ]
    }
   ],
   "source": [
    "from sklearn.linear_model import LogisticRegressionCV\n",
    "from sklearn import metrics\n",
    "\n",
    "\n",
    "#classifier\n",
    "clf = LogisticRegressionCV(cv=5, random_state=0).fit(X_train, y_train)\n",
    "print(clf)\n",
    "\n",
    "# Previsões\n",
    "previsto = clf.predict(X_valid)\n",
    "\n",
    "# Sumário\n",
    "print(metrics.classification_report(y_valid, previsto))\n",
    "print(metrics.confusion_matrix(y_valid, previsto))\n",
    "\n"
   ]
  },
  {
   "cell_type": "markdown",
   "metadata": {
    "heading_collapsed": true
   },
   "source": [
    "### SVM - acc 73%"
   ]
  },
  {
   "cell_type": "code",
   "execution_count": 33,
   "metadata": {
    "hidden": true
   },
   "outputs": [
    {
     "name": "stdout",
     "output_type": "stream",
     "text": [
      "SVC(C=1.0, cache_size=200, class_weight=None, coef0=0.0,\n",
      "    decision_function_shape='ovr', degree=3, gamma='auto_deprecated',\n",
      "    kernel='rbf', max_iter=-1, probability=False, random_state=None,\n",
      "    shrinking=True, tol=0.001, verbose=False)\n",
      "              precision    recall  f1-score   support\n",
      "\n",
      "           0       0.74      0.97      0.84       181\n",
      "           1       0.50      0.09      0.15        66\n",
      "\n",
      "    accuracy                           0.73       247\n",
      "   macro avg       0.62      0.53      0.50       247\n",
      "weighted avg       0.68      0.73      0.66       247\n",
      "\n",
      "[[175   6]\n",
      " [ 60   6]]\n"
     ]
    },
    {
     "name": "stderr",
     "output_type": "stream",
     "text": [
      "/home/bruno/anaconda3/lib/python3.7/site-packages/sklearn/svm/base.py:193: FutureWarning: The default value of gamma will change from 'auto' to 'scale' in version 0.22 to account better for unscaled features. Set gamma explicitly to 'auto' or 'scale' to avoid this warning.\n",
      "  \"avoid this warning.\", FutureWarning)\n"
     ]
    }
   ],
   "source": [
    "from sklearn import svm\n",
    "from sklearn import metrics\n",
    "\n",
    "\n",
    "#classifier\n",
    "clf = svm.SVC().fit(X_train, y_train)\n",
    "print(clf)\n",
    "\n",
    "# Previsões\n",
    "previsto = clf.predict(X_valid)\n",
    "\n",
    "# Sumário\n",
    "print(metrics.classification_report(y_valid, previsto))\n",
    "print(metrics.confusion_matrix(y_valid, previsto))\n",
    "\n"
   ]
  },
  {
   "cell_type": "markdown",
   "metadata": {
    "heading_collapsed": true
   },
   "source": [
    "### Tree - acc 68%"
   ]
  },
  {
   "cell_type": "code",
   "execution_count": 42,
   "metadata": {
    "hidden": true
   },
   "outputs": [
    {
     "name": "stdout",
     "output_type": "stream",
     "text": [
      "DecisionTreeClassifier(class_weight=None, criterion='gini', max_depth=None,\n",
      "                       max_features=None, max_leaf_nodes=None,\n",
      "                       min_impurity_decrease=0.0, min_impurity_split=None,\n",
      "                       min_samples_leaf=1, min_samples_split=2,\n",
      "                       min_weight_fraction_leaf=0.0, presort=False,\n",
      "                       random_state=None, splitter='best')\n",
      "              precision    recall  f1-score   support\n",
      "\n",
      "           0       0.76      0.83      0.79       181\n",
      "           1       0.38      0.29      0.33        66\n",
      "\n",
      "    accuracy                           0.68       247\n",
      "   macro avg       0.57      0.56      0.56       247\n",
      "weighted avg       0.66      0.68      0.67       247\n",
      "\n",
      "[[150  31]\n",
      " [ 47  19]]\n"
     ]
    }
   ],
   "source": [
    "from sklearn import tree\n",
    "\n",
    "#classifier\n",
    "clf = tree.DecisionTreeClassifier().fit(X_train, y_train)\n",
    "print(clf)\n",
    "\n",
    "# Previsões\n",
    "previsto = clf.predict(X_valid)\n",
    "\n",
    "# Sumário\n",
    "print(metrics.classification_report(y_valid, previsto))\n",
    "print(metrics.confusion_matrix(y_valid, previsto))\n"
   ]
  },
  {
   "cell_type": "code",
   "execution_count": null,
   "metadata": {
    "hidden": true
   },
   "outputs": [],
   "source": []
  }
 ],
 "metadata": {
  "kernelspec": {
   "display_name": "Python 3",
   "language": "python",
   "name": "python3"
  },
  "language_info": {
   "codemirror_mode": {
    "name": "ipython",
    "version": 3
   },
   "file_extension": ".py",
   "mimetype": "text/x-python",
   "name": "python",
   "nbconvert_exporter": "python",
   "pygments_lexer": "ipython3",
   "version": "3.7.4"
  }
 },
 "nbformat": 4,
 "nbformat_minor": 2
}
